{
 "cells": [
  {
   "cell_type": "code",
   "execution_count": 1,
   "metadata": {},
   "outputs": [],
   "source": [
    "import pandas as pd"
   ]
  },
  {
   "cell_type": "code",
   "execution_count": 3,
   "metadata": {},
   "outputs": [],
   "source": [
    "df = pd.read_csv('TwitterUsers.csv')"
   ]
  },
  {
   "cell_type": "code",
   "execution_count": 4,
   "metadata": {},
   "outputs": [
    {
     "data": {
      "text/html": [
       "<div>\n",
       "<style scoped>\n",
       "    .dataframe tbody tr th:only-of-type {\n",
       "        vertical-align: middle;\n",
       "    }\n",
       "\n",
       "    .dataframe tbody tr th {\n",
       "        vertical-align: top;\n",
       "    }\n",
       "\n",
       "    .dataframe thead th {\n",
       "        text-align: right;\n",
       "    }\n",
       "</style>\n",
       "<table border=\"1\" class=\"dataframe\">\n",
       "  <thead>\n",
       "    <tr style=\"text-align: right;\">\n",
       "      <th></th>\n",
       "      <th>username</th>\n",
       "      <th>Number of followers</th>\n",
       "      <th>Number of friends</th>\n",
       "      <th>Tweets</th>\n",
       "      <th>Number of retweets</th>\n",
       "    </tr>\n",
       "  </thead>\n",
       "  <tbody>\n",
       "    <tr>\n",
       "      <td>0</td>\n",
       "      <td>nytimes</td>\n",
       "      <td>12263087</td>\n",
       "      <td>951</td>\n",
       "      <td>140621</td>\n",
       "      <td>0</td>\n",
       "    </tr>\n",
       "    <tr>\n",
       "      <td>1</td>\n",
       "      <td>NBA</td>\n",
       "      <td>10470525</td>\n",
       "      <td>1230</td>\n",
       "      <td>76118</td>\n",
       "      <td>45</td>\n",
       "    </tr>\n",
       "    <tr>\n",
       "      <td>2</td>\n",
       "      <td>BreakingNews</td>\n",
       "      <td>6720904</td>\n",
       "      <td>493</td>\n",
       "      <td>85592</td>\n",
       "      <td>3</td>\n",
       "    </tr>\n",
       "    <tr>\n",
       "      <td>3</td>\n",
       "      <td>LittleMix</td>\n",
       "      <td>5788926</td>\n",
       "      <td>18445</td>\n",
       "      <td>15793</td>\n",
       "      <td>0</td>\n",
       "    </tr>\n",
       "    <tr>\n",
       "      <td>4</td>\n",
       "      <td>BigSean</td>\n",
       "      <td>5639564</td>\n",
       "      <td>1873</td>\n",
       "      <td>17086</td>\n",
       "      <td>0</td>\n",
       "    </tr>\n",
       "  </tbody>\n",
       "</table>\n",
       "</div>"
      ],
      "text/plain": [
       "       username  Number of followers  Number of friends  Tweets  \\\n",
       "0       nytimes             12263087                951  140621   \n",
       "1           NBA             10470525               1230   76118   \n",
       "2  BreakingNews              6720904                493   85592   \n",
       "3     LittleMix              5788926              18445   15793   \n",
       "4       BigSean              5639564               1873   17086   \n",
       "\n",
       "   Number of retweets  \n",
       "0                   0  \n",
       "1                  45  \n",
       "2                   3  \n",
       "3                   0  \n",
       "4                   0  "
      ]
     },
     "execution_count": 4,
     "metadata": {},
     "output_type": "execute_result"
    }
   ],
   "source": [
    "df.head()"
   ]
  },
  {
   "cell_type": "code",
   "execution_count": 5,
   "metadata": {},
   "outputs": [
    {
     "data": {
      "text/html": [
       "<div>\n",
       "<style scoped>\n",
       "    .dataframe tbody tr th:only-of-type {\n",
       "        vertical-align: middle;\n",
       "    }\n",
       "\n",
       "    .dataframe tbody tr th {\n",
       "        vertical-align: top;\n",
       "    }\n",
       "\n",
       "    .dataframe thead th {\n",
       "        text-align: right;\n",
       "    }\n",
       "</style>\n",
       "<table border=\"1\" class=\"dataframe\">\n",
       "  <thead>\n",
       "    <tr style=\"text-align: right;\">\n",
       "      <th></th>\n",
       "      <th>Number of followers</th>\n",
       "      <th>Number of friends</th>\n",
       "      <th>Tweets</th>\n",
       "      <th>Number of retweets</th>\n",
       "    </tr>\n",
       "  </thead>\n",
       "  <tbody>\n",
       "    <tr>\n",
       "      <td>count</td>\n",
       "      <td>7.101300e+04</td>\n",
       "      <td>71013.000000</td>\n",
       "      <td>7.101300e+04</td>\n",
       "      <td>71013.000000</td>\n",
       "    </tr>\n",
       "    <tr>\n",
       "      <td>mean</td>\n",
       "      <td>4.035413e+03</td>\n",
       "      <td>880.547576</td>\n",
       "      <td>1.679561e+04</td>\n",
       "      <td>256.857378</td>\n",
       "    </tr>\n",
       "    <tr>\n",
       "      <td>std</td>\n",
       "      <td>9.282603e+04</td>\n",
       "      <td>5817.019914</td>\n",
       "      <td>3.944097e+04</td>\n",
       "      <td>852.091000</td>\n",
       "    </tr>\n",
       "    <tr>\n",
       "      <td>min</td>\n",
       "      <td>0.000000e+00</td>\n",
       "      <td>0.000000</td>\n",
       "      <td>0.000000e+00</td>\n",
       "      <td>0.000000</td>\n",
       "    </tr>\n",
       "    <tr>\n",
       "      <td>25%</td>\n",
       "      <td>9.300000e+01</td>\n",
       "      <td>130.000000</td>\n",
       "      <td>8.940000e+02</td>\n",
       "      <td>0.000000</td>\n",
       "    </tr>\n",
       "    <tr>\n",
       "      <td>50%</td>\n",
       "      <td>2.900000e+02</td>\n",
       "      <td>330.000000</td>\n",
       "      <td>4.761000e+03</td>\n",
       "      <td>0.000000</td>\n",
       "    </tr>\n",
       "    <tr>\n",
       "      <td>75%</td>\n",
       "      <td>7.990000e+02</td>\n",
       "      <td>760.000000</td>\n",
       "      <td>1.629500e+04</td>\n",
       "      <td>34.000000</td>\n",
       "    </tr>\n",
       "    <tr>\n",
       "      <td>max</td>\n",
       "      <td>1.226309e+07</td>\n",
       "      <td>583467.000000</td>\n",
       "      <td>1.843725e+06</td>\n",
       "      <td>47868.000000</td>\n",
       "    </tr>\n",
       "  </tbody>\n",
       "</table>\n",
       "</div>"
      ],
      "text/plain": [
       "       Number of followers  Number of friends        Tweets  \\\n",
       "count         7.101300e+04       71013.000000  7.101300e+04   \n",
       "mean          4.035413e+03         880.547576  1.679561e+04   \n",
       "std           9.282603e+04        5817.019914  3.944097e+04   \n",
       "min           0.000000e+00           0.000000  0.000000e+00   \n",
       "25%           9.300000e+01         130.000000  8.940000e+02   \n",
       "50%           2.900000e+02         330.000000  4.761000e+03   \n",
       "75%           7.990000e+02         760.000000  1.629500e+04   \n",
       "max           1.226309e+07      583467.000000  1.843725e+06   \n",
       "\n",
       "       Number of retweets  \n",
       "count        71013.000000  \n",
       "mean           256.857378  \n",
       "std            852.091000  \n",
       "min              0.000000  \n",
       "25%              0.000000  \n",
       "50%              0.000000  \n",
       "75%             34.000000  \n",
       "max          47868.000000  "
      ]
     },
     "execution_count": 5,
     "metadata": {},
     "output_type": "execute_result"
    }
   ],
   "source": [
    "#using the primitive funtion for metrics evaluation\n",
    "\n",
    "df.describe()"
   ]
  },
  {
   "cell_type": "code",
   "execution_count": 7,
   "metadata": {},
   "outputs": [
    {
     "data": {
      "text/plain": [
       "username               0\n",
       "Number of followers    0\n",
       "Number of friends      0\n",
       "Tweets                 0\n",
       "Number of retweets     0\n",
       "dtype: int64"
      ]
     },
     "execution_count": 7,
     "metadata": {},
     "output_type": "execute_result"
    }
   ],
   "source": [
    "#checking the iniitial values of labels\n",
    "\n",
    "df.isna().sum()"
   ]
  },
  {
   "cell_type": "code",
   "execution_count": 14,
   "metadata": {},
   "outputs": [],
   "source": [
    "#reasoning approach used is graphical and modules used is seaborn for plotting\n",
    "\n",
    "import seaborn as sn"
   ]
  },
  {
   "cell_type": "code",
   "execution_count": 15,
   "metadata": {},
   "outputs": [
    {
     "data": {
      "text/plain": [
       "<matplotlib.axes._subplots.AxesSubplot at 0x12c435cb188>"
      ]
     },
     "execution_count": 15,
     "metadata": {},
     "output_type": "execute_result"
    },
    {
     "data": {
      "image/png": "[encoded data removed]",
      "text/plain": [
       "<Figure size 432x288 with 1 Axes>"
      ]
     },
     "metadata": {
      "needs_background": "light"
     },
     "output_type": "display_data"
    }
   ],
   "source": [
    "#plot used for reasoning is distplot\n",
    "\n",
    "#plotting the firwst label\n",
    "sn.distplot(df['Number of followers'])"
   ]
  },
  {
   "cell_type": "code",
   "execution_count": 11,
   "metadata": {},
   "outputs": [
    {
     "data": {
      "text/plain": [
       "<matplotlib.axes._subplots.AxesSubplot at 0x12c42196d48>"
      ]
     },
     "execution_count": 11,
     "metadata": {},
     "output_type": "execute_result"
    },
    {
     "data": {
      "image/png": "[encoded data removed]",
      "text/plain": [
       "<Figure size 432x288 with 1 Axes>"
      ]
     },
     "metadata": {
      "needs_background": "light"
     },
     "output_type": "display_data"
    }
   ],
   "source": [
    "#plotting the second label\n",
    "sn.distplot(df['Number of friends'])"
   ]
  },
  {
   "cell_type": "code",
   "execution_count": 16,
   "metadata": {},
   "outputs": [
    {
     "data": {
      "text/plain": [
       "<matplotlib.axes._subplots.AxesSubplot at 0x12c436c6408>"
      ]
     },
     "execution_count": 16,
     "metadata": {},
     "output_type": "execute_result"
    },
    {
     "data": {
      "image/png": "[encoded data removed]",
      "text/plain": [
       "<Figure size 432x288 with 1 Axes>"
      ]
     },
     "metadata": {
      "needs_background": "light"
     },
     "output_type": "display_data"
    }
   ],
   "source": [
    "#plotting the third label\n",
    "sn.distplot(df['Tweets'])"
   ]
  },
  {
   "cell_type": "code",
   "execution_count": 17,
   "metadata": {},
   "outputs": [
    {
     "data": {
      "text/plain": [
       "<matplotlib.axes._subplots.AxesSubplot at 0x12c436b46c8>"
      ]
     },
     "execution_count": 17,
     "metadata": {},
     "output_type": "execute_result"
    },
    {
     "data": {
      "image/png": "[encoded data removed]",
      "text/plain": [
       "<Figure size 432x288 with 1 Axes>"
      ]
     },
     "metadata": {
      "needs_background": "light"
     },
     "output_type": "display_data"
    }
   ],
   "source": [
    "#plotting the fourth label\n",
    "sn.distplot(df['Number of retweets'])"
   ]
  },
  {
   "cell_type": "code",
   "execution_count": 19,
   "metadata": {},
   "outputs": [],
   "source": [
    "#The logic of this formula:\n",
    "# 1) Scale the columns according to their max values so that data is scaled(scaling helps in better accuracy)\n",
    "# 2) Assigning of weight to the labels after analysing the dataset file. weight values can vary. they are my assumption\n",
    "\n",
    "df['rating'] = (df['Number of followers']/(df['Number of followers'].max()))*0.6 + (df['Number of friends']/(df['Number of friends'].max()))*0.2 + (df['Tweets']/(df['Tweets'].max()))*0.8 + (df['Number of retweets']/(df['Number of retweets'].max()))*0.5 "
   ]
  },
  {
   "cell_type": "code",
   "execution_count": 35,
   "metadata": {},
   "outputs": [
    {
     "data": {
      "text/html": [
       "<div>\n",
       "<style scoped>\n",
       "    .dataframe tbody tr th:only-of-type {\n",
       "        vertical-align: middle;\n",
       "    }\n",
       "\n",
       "    .dataframe tbody tr th {\n",
       "        vertical-align: top;\n",
       "    }\n",
       "\n",
       "    .dataframe thead th {\n",
       "        text-align: right;\n",
       "    }\n",
       "</style>\n",
       "<table border=\"1\" class=\"dataframe\">\n",
       "  <thead>\n",
       "    <tr style=\"text-align: right;\">\n",
       "      <th></th>\n",
       "      <th>username</th>\n",
       "      <th>Number of followers</th>\n",
       "      <th>Number of friends</th>\n",
       "      <th>Tweets</th>\n",
       "      <th>Number of retweets</th>\n",
       "      <th>rating</th>\n",
       "    </tr>\n",
       "  </thead>\n",
       "  <tbody>\n",
       "    <tr>\n",
       "      <td>0</td>\n",
       "      <td>nytimes</td>\n",
       "      <td>12263087</td>\n",
       "      <td>951</td>\n",
       "      <td>140621</td>\n",
       "      <td>0</td>\n",
       "      <td>6.613420e-01</td>\n",
       "    </tr>\n",
       "    <tr>\n",
       "      <td>1</td>\n",
       "      <td>NBA</td>\n",
       "      <td>10470525</td>\n",
       "      <td>1230</td>\n",
       "      <td>76118</td>\n",
       "      <td>45</td>\n",
       "      <td>5.462143e-01</td>\n",
       "    </tr>\n",
       "    <tr>\n",
       "      <td>2</td>\n",
       "      <td>BreakingNews</td>\n",
       "      <td>6720904</td>\n",
       "      <td>493</td>\n",
       "      <td>85592</td>\n",
       "      <td>3</td>\n",
       "      <td>3.661749e-01</td>\n",
       "    </tr>\n",
       "    <tr>\n",
       "      <td>3</td>\n",
       "      <td>LittleMix</td>\n",
       "      <td>5788926</td>\n",
       "      <td>18445</td>\n",
       "      <td>15793</td>\n",
       "      <td>0</td>\n",
       "      <td>2.964118e-01</td>\n",
       "    </tr>\n",
       "    <tr>\n",
       "      <td>4</td>\n",
       "      <td>BigSean</td>\n",
       "      <td>5639564</td>\n",
       "      <td>1873</td>\n",
       "      <td>17086</td>\n",
       "      <td>0</td>\n",
       "      <td>2.839845e-01</td>\n",
       "    </tr>\n",
       "    <tr>\n",
       "      <td>...</td>\n",
       "      <td>...</td>\n",
       "      <td>...</td>\n",
       "      <td>...</td>\n",
       "      <td>...</td>\n",
       "      <td>...</td>\n",
       "      <td>...</td>\n",
       "    </tr>\n",
       "    <tr>\n",
       "      <td>71008</td>\n",
       "      <td>AlexEmmaalex</td>\n",
       "      <td>0</td>\n",
       "      <td>1</td>\n",
       "      <td>1</td>\n",
       "      <td>0</td>\n",
       "      <td>7.766828e-07</td>\n",
       "    </tr>\n",
       "    <tr>\n",
       "      <td>71009</td>\n",
       "      <td>gabi071</td>\n",
       "      <td>0</td>\n",
       "      <td>1</td>\n",
       "      <td>2</td>\n",
       "      <td>0</td>\n",
       "      <td>1.210587e-06</td>\n",
       "    </tr>\n",
       "    <tr>\n",
       "      <td>71010</td>\n",
       "      <td>JuneAprilMay1</td>\n",
       "      <td>0</td>\n",
       "      <td>12</td>\n",
       "      <td>87</td>\n",
       "      <td>0</td>\n",
       "      <td>4.186301e-05</td>\n",
       "    </tr>\n",
       "    <tr>\n",
       "      <td>71011</td>\n",
       "      <td>shanlee_paulse</td>\n",
       "      <td>0</td>\n",
       "      <td>2</td>\n",
       "      <td>3</td>\n",
       "      <td>0</td>\n",
       "      <td>1.987270e-06</td>\n",
       "    </tr>\n",
       "    <tr>\n",
       "      <td>71012</td>\n",
       "      <td>hvivet</td>\n",
       "      <td>0</td>\n",
       "      <td>4</td>\n",
       "      <td>36</td>\n",
       "      <td>0</td>\n",
       "      <td>1.699167e-05</td>\n",
       "    </tr>\n",
       "  </tbody>\n",
       "</table>\n",
       "<p>71013 rows × 6 columns</p>\n",
       "</div>"
      ],
      "text/plain": [
       "             username  Number of followers  Number of friends  Tweets  \\\n",
       "0             nytimes             12263087                951  140621   \n",
       "1                 NBA             10470525               1230   76118   \n",
       "2        BreakingNews              6720904                493   85592   \n",
       "3           LittleMix              5788926              18445   15793   \n",
       "4             BigSean              5639564               1873   17086   \n",
       "...               ...                  ...                ...     ...   \n",
       "71008    AlexEmmaalex                    0                  1       1   \n",
       "71009         gabi071                    0                  1       2   \n",
       "71010   JuneAprilMay1                    0                 12      87   \n",
       "71011  shanlee_paulse                    0                  2       3   \n",
       "71012          hvivet                    0                  4      36   \n",
       "\n",
       "       Number of retweets        rating  \n",
       "0                       0  6.613420e-01  \n",
       "1                      45  5.462143e-01  \n",
       "2                       3  3.661749e-01  \n",
       "3                       0  2.964118e-01  \n",
       "4                       0  2.839845e-01  \n",
       "...                   ...           ...  \n",
       "71008                   0  7.766828e-07  \n",
       "71009                   0  1.210587e-06  \n",
       "71010                   0  4.186301e-05  \n",
       "71011                   0  1.987270e-06  \n",
       "71012                   0  1.699167e-05  \n",
       "\n",
       "[71013 rows x 6 columns]"
      ]
     },
     "execution_count": 35,
     "metadata": {},
     "output_type": "execute_result"
    }
   ],
   "source": [
    "#After scaling the outcome will be on a scale of 0-1 \n",
    "\n",
    "df"
   ]
  },
  {
   "cell_type": "code",
   "execution_count": 38,
   "metadata": {},
   "outputs": [
    {
     "data": {
      "text/html": [
       "<div>\n",
       "<style scoped>\n",
       "    .dataframe tbody tr th:only-of-type {\n",
       "        vertical-align: middle;\n",
       "    }\n",
       "\n",
       "    .dataframe tbody tr th {\n",
       "        vertical-align: top;\n",
       "    }\n",
       "\n",
       "    .dataframe thead th {\n",
       "        text-align: right;\n",
       "    }\n",
       "</style>\n",
       "<table border=\"1\" class=\"dataframe\">\n",
       "  <thead>\n",
       "    <tr style=\"text-align: right;\">\n",
       "      <th></th>\n",
       "      <th>username</th>\n",
       "      <th>Number of followers</th>\n",
       "      <th>Number of friends</th>\n",
       "      <th>Tweets</th>\n",
       "      <th>Number of retweets</th>\n",
       "      <th>rating</th>\n",
       "    </tr>\n",
       "  </thead>\n",
       "  <tbody>\n",
       "    <tr>\n",
       "      <td>0</td>\n",
       "      <td>nytimes</td>\n",
       "      <td>12263087</td>\n",
       "      <td>951</td>\n",
       "      <td>140621</td>\n",
       "      <td>0</td>\n",
       "      <td>66.134202</td>\n",
       "    </tr>\n",
       "    <tr>\n",
       "      <td>1</td>\n",
       "      <td>NBA</td>\n",
       "      <td>10470525</td>\n",
       "      <td>1230</td>\n",
       "      <td>76118</td>\n",
       "      <td>45</td>\n",
       "      <td>54.621432</td>\n",
       "    </tr>\n",
       "    <tr>\n",
       "      <td>2</td>\n",
       "      <td>BreakingNews</td>\n",
       "      <td>6720904</td>\n",
       "      <td>493</td>\n",
       "      <td>85592</td>\n",
       "      <td>3</td>\n",
       "      <td>36.617488</td>\n",
       "    </tr>\n",
       "    <tr>\n",
       "      <td>3</td>\n",
       "      <td>LittleMix</td>\n",
       "      <td>5788926</td>\n",
       "      <td>18445</td>\n",
       "      <td>15793</td>\n",
       "      <td>0</td>\n",
       "      <td>29.641184</td>\n",
       "    </tr>\n",
       "    <tr>\n",
       "      <td>4</td>\n",
       "      <td>BigSean</td>\n",
       "      <td>5639564</td>\n",
       "      <td>1873</td>\n",
       "      <td>17086</td>\n",
       "      <td>0</td>\n",
       "      <td>28.398447</td>\n",
       "    </tr>\n",
       "    <tr>\n",
       "      <td>...</td>\n",
       "      <td>...</td>\n",
       "      <td>...</td>\n",
       "      <td>...</td>\n",
       "      <td>...</td>\n",
       "      <td>...</td>\n",
       "      <td>...</td>\n",
       "    </tr>\n",
       "    <tr>\n",
       "      <td>71008</td>\n",
       "      <td>AlexEmmaalex</td>\n",
       "      <td>0</td>\n",
       "      <td>1</td>\n",
       "      <td>1</td>\n",
       "      <td>0</td>\n",
       "      <td>0.000078</td>\n",
       "    </tr>\n",
       "    <tr>\n",
       "      <td>71009</td>\n",
       "      <td>gabi071</td>\n",
       "      <td>0</td>\n",
       "      <td>1</td>\n",
       "      <td>2</td>\n",
       "      <td>0</td>\n",
       "      <td>0.000121</td>\n",
       "    </tr>\n",
       "    <tr>\n",
       "      <td>71010</td>\n",
       "      <td>JuneAprilMay1</td>\n",
       "      <td>0</td>\n",
       "      <td>12</td>\n",
       "      <td>87</td>\n",
       "      <td>0</td>\n",
       "      <td>0.004186</td>\n",
       "    </tr>\n",
       "    <tr>\n",
       "      <td>71011</td>\n",
       "      <td>shanlee_paulse</td>\n",
       "      <td>0</td>\n",
       "      <td>2</td>\n",
       "      <td>3</td>\n",
       "      <td>0</td>\n",
       "      <td>0.000199</td>\n",
       "    </tr>\n",
       "    <tr>\n",
       "      <td>71012</td>\n",
       "      <td>hvivet</td>\n",
       "      <td>0</td>\n",
       "      <td>4</td>\n",
       "      <td>36</td>\n",
       "      <td>0</td>\n",
       "      <td>0.001699</td>\n",
       "    </tr>\n",
       "  </tbody>\n",
       "</table>\n",
       "<p>71013 rows × 6 columns</p>\n",
       "</div>"
      ],
      "text/plain": [
       "             username  Number of followers  Number of friends  Tweets  \\\n",
       "0             nytimes             12263087                951  140621   \n",
       "1                 NBA             10470525               1230   76118   \n",
       "2        BreakingNews              6720904                493   85592   \n",
       "3           LittleMix              5788926              18445   15793   \n",
       "4             BigSean              5639564               1873   17086   \n",
       "...               ...                  ...                ...     ...   \n",
       "71008    AlexEmmaalex                    0                  1       1   \n",
       "71009         gabi071                    0                  1       2   \n",
       "71010   JuneAprilMay1                    0                 12      87   \n",
       "71011  shanlee_paulse                    0                  2       3   \n",
       "71012          hvivet                    0                  4      36   \n",
       "\n",
       "       Number of retweets     rating  \n",
       "0                       0  66.134202  \n",
       "1                      45  54.621432  \n",
       "2                       3  36.617488  \n",
       "3                       0  29.641184  \n",
       "4                       0  28.398447  \n",
       "...                   ...        ...  \n",
       "71008                   0   0.000078  \n",
       "71009                   0   0.000121  \n",
       "71010                   0   0.004186  \n",
       "71011                   0   0.000199  \n",
       "71012                   0   0.001699  \n",
       "\n",
       "[71013 rows x 6 columns]"
      ]
     },
     "execution_count": 38,
     "metadata": {},
     "output_type": "execute_result"
    }
   ],
   "source": [
    "#but the requirement is of scale 0-100 metrics so rating on a scale of 0-100\n",
    "df['rating'] = df['rating'] * 100\n",
    "\n",
    "df"
   ]
  },
  {
   "cell_type": "code",
   "execution_count": null,
   "metadata": {},
   "outputs": [],
   "source": []
  }
 ],
 "metadata": {
  "kernelspec": {
   "display_name": "Python 3",
   "language": "python",
   "name": "python3"
  },
  "language_info": {
   "codemirror_mode": {
    "name": "ipython",
    "version": 3
   },
   "file_extension": ".py",
   "mimetype": "text/x-python",
   "name": "python",
   "nbconvert_exporter": "python",
   "pygments_lexer": "ipython3",
   "version": "3.7.4"
  }
 },
 "nbformat": 4,
 "nbformat_minor": 2
}
