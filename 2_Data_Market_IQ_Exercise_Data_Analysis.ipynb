{
  "nbformat": 4,
  "nbformat_minor": 0,
  "metadata": {
    "colab": {
      "name": "2.Data.Market IQ.Exercise.Data Analysis",
      "provenance": [],
      "collapsed_sections": []
    },
    "kernelspec": {
      "name": "python3",
      "display_name": "Python 3"
    }
  },
  "cells": [
    {
      "cell_type": "code",
      "metadata": {
        "id": "r4RkaeUmxKlr"
      },
      "source": [
        "import pandas as pd"
      ],
      "execution_count": 1,
      "outputs": []
    },
    {
      "cell_type": "code",
      "metadata": {
        "id": "VXCcyOBtxXvu"
      },
      "source": [
        "df = pd.read_csv(\"TwitterUsers.csv\")"
      ],
      "execution_count": 2,
      "outputs": []
    },
    {
      "cell_type": "code",
      "metadata": {
        "colab": {
          "base_uri": "https://localhost:8080/",
          "height": 195
        },
        "id": "Ye33kIRVxbaZ",
        "outputId": "0ffe1534-7293-4ad3-8715-47f72670b463"
      },
      "source": [
        "df.head()"
      ],
      "execution_count": 5,
      "outputs": [
        {
          "output_type": "execute_result",
          "data": {
            "text/html": [
              "<div>\n",
              "<style scoped>\n",
              "    .dataframe tbody tr th:only-of-type {\n",
              "        vertical-align: middle;\n",
              "    }\n",
              "\n",
              "    .dataframe tbody tr th {\n",
              "        vertical-align: top;\n",
              "    }\n",
              "\n",
              "    .dataframe thead th {\n",
              "        text-align: right;\n",
              "    }\n",
              "</style>\n",
              "<table border=\"1\" class=\"dataframe\">\n",
              "  <thead>\n",
              "    <tr style=\"text-align: right;\">\n",
              "      <th></th>\n",
              "      <th>username</th>\n",
              "      <th>Number of followers</th>\n",
              "      <th>Number of friends</th>\n",
              "      <th>Tweets</th>\n",
              "      <th>Number of retweets</th>\n",
              "    </tr>\n",
              "  </thead>\n",
              "  <tbody>\n",
              "    <tr>\n",
              "      <th>0</th>\n",
              "      <td>nytimes</td>\n",
              "      <td>12263087</td>\n",
              "      <td>951</td>\n",
              "      <td>140621</td>\n",
              "      <td>0</td>\n",
              "    </tr>\n",
              "    <tr>\n",
              "      <th>1</th>\n",
              "      <td>NBA</td>\n",
              "      <td>10470525</td>\n",
              "      <td>1230</td>\n",
              "      <td>76118</td>\n",
              "      <td>45</td>\n",
              "    </tr>\n",
              "    <tr>\n",
              "      <th>2</th>\n",
              "      <td>BreakingNews</td>\n",
              "      <td>6720904</td>\n",
              "      <td>493</td>\n",
              "      <td>85592</td>\n",
              "      <td>3</td>\n",
              "    </tr>\n",
              "    <tr>\n",
              "      <th>3</th>\n",
              "      <td>LittleMix</td>\n",
              "      <td>5788926</td>\n",
              "      <td>18445</td>\n",
              "      <td>15793</td>\n",
              "      <td>0</td>\n",
              "    </tr>\n",
              "    <tr>\n",
              "      <th>4</th>\n",
              "      <td>BigSean</td>\n",
              "      <td>5639564</td>\n",
              "      <td>1873</td>\n",
              "      <td>17086</td>\n",
              "      <td>0</td>\n",
              "    </tr>\n",
              "  </tbody>\n",
              "</table>\n",
              "</div>"
            ],
            "text/plain": [
              "       username  Number of followers  ...  Tweets  Number of retweets\n",
              "0       nytimes             12263087  ...  140621                   0\n",
              "1           NBA             10470525  ...   76118                  45\n",
              "2  BreakingNews              6720904  ...   85592                   3\n",
              "3     LittleMix              5788926  ...   15793                   0\n",
              "4       BigSean              5639564  ...   17086                   0\n",
              "\n",
              "[5 rows x 5 columns]"
            ]
          },
          "metadata": {
            "tags": []
          },
          "execution_count": 5
        }
      ]
    },
    {
      "cell_type": "code",
      "metadata": {
        "colab": {
          "base_uri": "https://localhost:8080/",
          "height": 284
        },
        "id": "nN3Dw6CPxdFF",
        "outputId": "a5bf49a8-79d4-48d1-842f-b80095f37cfd"
      },
      "source": [
        "df.describe()"
      ],
      "execution_count": 18,
      "outputs": [
        {
          "output_type": "execute_result",
          "data": {
            "text/html": [
              "<div>\n",
              "<style scoped>\n",
              "    .dataframe tbody tr th:only-of-type {\n",
              "        vertical-align: middle;\n",
              "    }\n",
              "\n",
              "    .dataframe tbody tr th {\n",
              "        vertical-align: top;\n",
              "    }\n",
              "\n",
              "    .dataframe thead th {\n",
              "        text-align: right;\n",
              "    }\n",
              "</style>\n",
              "<table border=\"1\" class=\"dataframe\">\n",
              "  <thead>\n",
              "    <tr style=\"text-align: right;\">\n",
              "      <th></th>\n",
              "      <th>Number of followers</th>\n",
              "      <th>Number of friends</th>\n",
              "      <th>Tweets</th>\n",
              "      <th>Number of retweets</th>\n",
              "    </tr>\n",
              "  </thead>\n",
              "  <tbody>\n",
              "    <tr>\n",
              "      <th>count</th>\n",
              "      <td>7.101300e+04</td>\n",
              "      <td>71013.000000</td>\n",
              "      <td>7.101300e+04</td>\n",
              "      <td>71013.000000</td>\n",
              "    </tr>\n",
              "    <tr>\n",
              "      <th>mean</th>\n",
              "      <td>4.035413e+03</td>\n",
              "      <td>880.547576</td>\n",
              "      <td>1.679561e+04</td>\n",
              "      <td>256.857378</td>\n",
              "    </tr>\n",
              "    <tr>\n",
              "      <th>std</th>\n",
              "      <td>9.282603e+04</td>\n",
              "      <td>5817.019914</td>\n",
              "      <td>3.944097e+04</td>\n",
              "      <td>852.091000</td>\n",
              "    </tr>\n",
              "    <tr>\n",
              "      <th>min</th>\n",
              "      <td>0.000000e+00</td>\n",
              "      <td>0.000000</td>\n",
              "      <td>0.000000e+00</td>\n",
              "      <td>0.000000</td>\n",
              "    </tr>\n",
              "    <tr>\n",
              "      <th>25%</th>\n",
              "      <td>9.300000e+01</td>\n",
              "      <td>130.000000</td>\n",
              "      <td>8.940000e+02</td>\n",
              "      <td>0.000000</td>\n",
              "    </tr>\n",
              "    <tr>\n",
              "      <th>50%</th>\n",
              "      <td>2.900000e+02</td>\n",
              "      <td>330.000000</td>\n",
              "      <td>4.761000e+03</td>\n",
              "      <td>0.000000</td>\n",
              "    </tr>\n",
              "    <tr>\n",
              "      <th>75%</th>\n",
              "      <td>7.990000e+02</td>\n",
              "      <td>760.000000</td>\n",
              "      <td>1.629500e+04</td>\n",
              "      <td>34.000000</td>\n",
              "    </tr>\n",
              "    <tr>\n",
              "      <th>max</th>\n",
              "      <td>1.226309e+07</td>\n",
              "      <td>583467.000000</td>\n",
              "      <td>1.843725e+06</td>\n",
              "      <td>47868.000000</td>\n",
              "    </tr>\n",
              "  </tbody>\n",
              "</table>\n",
              "</div>"
            ],
            "text/plain": [
              "       Number of followers  Number of friends        Tweets  Number of retweets\n",
              "count         7.101300e+04       71013.000000  7.101300e+04        71013.000000\n",
              "mean          4.035413e+03         880.547576  1.679561e+04          256.857378\n",
              "std           9.282603e+04        5817.019914  3.944097e+04          852.091000\n",
              "min           0.000000e+00           0.000000  0.000000e+00            0.000000\n",
              "25%           9.300000e+01         130.000000  8.940000e+02            0.000000\n",
              "50%           2.900000e+02         330.000000  4.761000e+03            0.000000\n",
              "75%           7.990000e+02         760.000000  1.629500e+04           34.000000\n",
              "max           1.226309e+07      583467.000000  1.843725e+06        47868.000000"
            ]
          },
          "metadata": {
            "tags": []
          },
          "execution_count": 18
        }
      ]
    },
    {
      "cell_type": "code",
      "metadata": {
        "colab": {
          "base_uri": "https://localhost:8080/"
        },
        "id": "sAuqEUOmxk-s",
        "outputId": "8d762e38-16bf-4210-9881-914f59560a5f"
      },
      "source": [
        "df.isna().sum()"
      ],
      "execution_count": 7,
      "outputs": [
        {
          "output_type": "execute_result",
          "data": {
            "text/plain": [
              "username               0\n",
              "Number of followers    0\n",
              "Number of friends      0\n",
              "Tweets                 0\n",
              "Number of retweets     0\n",
              "dtype: int64"
            ]
          },
          "metadata": {
            "tags": []
          },
          "execution_count": 7
        }
      ]
    },
    {
      "cell_type": "code",
      "metadata": {
        "colab": {
          "base_uri": "https://localhost:8080/",
          "height": 350
        },
        "id": "Gd_YRammxqrl",
        "outputId": "c2616227-88fe-46bf-d5ea-95cec678141a"
      },
      "source": [
        "import seaborn as sns\r\n",
        "\r\n",
        "sns.distplot(df['Number of friends'])"
      ],
      "execution_count": 13,
      "outputs": [
        {
          "output_type": "stream",
          "text": [
            "/usr/local/lib/python3.6/dist-packages/seaborn/distributions.py:2557: FutureWarning: `distplot` is a deprecated function and will be removed in a future version. Please adapt your code to use either `displot` (a figure-level function with similar flexibility) or `histplot` (an axes-level function for histograms).\n",
            "  warnings.warn(msg, FutureWarning)\n"
          ],
          "name": "stderr"
        },
        {
          "output_type": "execute_result",
          "data": {
            "text/plain": [
              "<matplotlib.axes._subplots.AxesSubplot at 0x7f6aff90f9e8>"
            ]
          },
          "metadata": {
            "tags": []
          },
          "execution_count": 13
        },
        {
          "output_type": "display_data",
          "data": {
            "image/png": "[encoded data removed]",
            "text/plain": [
              "<Figure size 432x288 with 1 Axes>"
            ]
          },
          "metadata": {
            "tags": [],
            "needs_background": "light"
          }
        }
      ]
    },
    {
      "cell_type": "code",
      "metadata": {
        "colab": {
          "base_uri": "https://localhost:8080/",
          "height": 361
        },
        "id": "MgHcRNJIyVGQ",
        "outputId": "1add901a-d6d4-4a0a-d99f-bd4da89b640f"
      },
      "source": [
        "sns.distplot(df['Number of followers'])"
      ],
      "execution_count": 14,
      "outputs": [
        {
          "output_type": "stream",
          "text": [
            "/usr/local/lib/python3.6/dist-packages/seaborn/distributions.py:2557: FutureWarning: `distplot` is a deprecated function and will be removed in a future version. Please adapt your code to use either `displot` (a figure-level function with similar flexibility) or `histplot` (an axes-level function for histograms).\n",
            "  warnings.warn(msg, FutureWarning)\n"
          ],
          "name": "stderr"
        },
        {
          "output_type": "execute_result",
          "data": {
            "text/plain": [
              "<matplotlib.axes._subplots.AxesSubplot at 0x7f6af34f5518>"
            ]
          },
          "metadata": {
            "tags": []
          },
          "execution_count": 14
        },
        {
          "output_type": "display_data",
          "data": {
            "image/png": "[encoded data removed]",
            "text/plain": [
              "<Figure size 432x288 with 1 Axes>"
            ]
          },
          "metadata": {
            "tags": [],
            "needs_background": "light"
          }
        }
      ]
    },
    {
      "cell_type": "code",
      "metadata": {
        "colab": {
          "base_uri": "https://localhost:8080/",
          "height": 361
        },
        "id": "nM0BklUtzGUH",
        "outputId": "c8dd04bb-1d69-459f-be6f-04cbb6fc31c8"
      },
      "source": [
        "sns.distplot(df['Tweets'])"
      ],
      "execution_count": 16,
      "outputs": [
        {
          "output_type": "stream",
          "text": [
            "/usr/local/lib/python3.6/dist-packages/seaborn/distributions.py:2557: FutureWarning: `distplot` is a deprecated function and will be removed in a future version. Please adapt your code to use either `displot` (a figure-level function with similar flexibility) or `histplot` (an axes-level function for histograms).\n",
            "  warnings.warn(msg, FutureWarning)\n"
          ],
          "name": "stderr"
        },
        {
          "output_type": "execute_result",
          "data": {
            "text/plain": [
              "<matplotlib.axes._subplots.AxesSubplot at 0x7f6aff099a20>"
            ]
          },
          "metadata": {
            "tags": []
          },
          "execution_count": 16
        },
        {
          "output_type": "display_data",
          "data": {
            "image/png": "[encoded data removed]",
            "text/plain": [
              "<Figure size 432x288 with 1 Axes>"
            ]
          },
          "metadata": {
            "tags": [],
            "needs_background": "light"
          }
        }
      ]
    },
    {
      "cell_type": "code",
      "metadata": {
        "colab": {
          "base_uri": "https://localhost:8080/",
          "height": 350
        },
        "id": "I53G9sfTzPi7",
        "outputId": "4a68eb93-10d7-44f0-9b80-2808c3bbb8ec"
      },
      "source": [
        "sns.distplot(df['Number of retweets'])"
      ],
      "execution_count": 17,
      "outputs": [
        {
          "output_type": "stream",
          "text": [
            "/usr/local/lib/python3.6/dist-packages/seaborn/distributions.py:2557: FutureWarning: `distplot` is a deprecated function and will be removed in a future version. Please adapt your code to use either `displot` (a figure-level function with similar flexibility) or `histplot` (an axes-level function for histograms).\n",
            "  warnings.warn(msg, FutureWarning)\n"
          ],
          "name": "stderr"
        },
        {
          "output_type": "execute_result",
          "data": {
            "text/plain": [
              "<matplotlib.axes._subplots.AxesSubplot at 0x7f6af32e34a8>"
            ]
          },
          "metadata": {
            "tags": []
          },
          "execution_count": 17
        },
        {
          "output_type": "display_data",
          "data": {
            "image/png": "[encoded data removed]",
            "text/plain": [
              "<Figure size 432x288 with 1 Axes>"
            ]
          },
          "metadata": {
            "tags": [],
            "needs_background": "light"
          }
        }
      ]
    },
    {
      "cell_type": "code",
      "metadata": {
        "id": "wGBz384jzWvr"
      },
      "source": [
        "df['score'] = (df['Number of followers']/df['Number of followers'].max())*0.8 + (df['Number of friends']/df['Number of friends'].max())*0.1 + (df['Number of retweets']/df['Number of retweets'].max())*0.5 + (df['Tweets']/df['Tweets'].max())*0.8"
      ],
      "execution_count": 50,
      "outputs": []
    },
    {
      "cell_type": "markdown",
      "metadata": {
        "id": "J5FsXF1f3I4B"
      },
      "source": [
        "The reason behind the formula is to first scale the columns according to there maximum values and then I gave weight to the columns/features which represent the feature importance in the weighting criteria. The number of followers and Tweets posted I gave more weight as this represents the influence factor of the user. While other features have more or less equal weight as it doesn't greatly impact the influence factor."
      ]
    },
    {
      "cell_type": "code",
      "metadata": {
        "id": "OsSNH3mm0vmS"
      },
      "source": [
        "df['score'] = df['score']*100"
      ],
      "execution_count": 52,
      "outputs": []
    },
    {
      "cell_type": "code",
      "metadata": {
        "colab": {
          "base_uri": "https://localhost:8080/",
          "height": 195
        },
        "id": "_kjff7qZ1UcI",
        "outputId": "7a516157-d0ee-45c8-ca33-0a3d29600bdb"
      },
      "source": [
        "df.head()"
      ],
      "execution_count": 53,
      "outputs": [
        {
          "output_type": "execute_result",
          "data": {
            "text/html": [
              "<div>\n",
              "<style scoped>\n",
              "    .dataframe tbody tr th:only-of-type {\n",
              "        vertical-align: middle;\n",
              "    }\n",
              "\n",
              "    .dataframe tbody tr th {\n",
              "        vertical-align: top;\n",
              "    }\n",
              "\n",
              "    .dataframe thead th {\n",
              "        text-align: right;\n",
              "    }\n",
              "</style>\n",
              "<table border=\"1\" class=\"dataframe\">\n",
              "  <thead>\n",
              "    <tr style=\"text-align: right;\">\n",
              "      <th></th>\n",
              "      <th>username</th>\n",
              "      <th>Number of followers</th>\n",
              "      <th>Number of friends</th>\n",
              "      <th>Tweets</th>\n",
              "      <th>Number of retweets</th>\n",
              "      <th>score</th>\n",
              "    </tr>\n",
              "  </thead>\n",
              "  <tbody>\n",
              "    <tr>\n",
              "      <th>0</th>\n",
              "      <td>nytimes</td>\n",
              "      <td>12263087</td>\n",
              "      <td>951</td>\n",
              "      <td>140621</td>\n",
              "      <td>0</td>\n",
              "      <td>86.117903</td>\n",
              "    </tr>\n",
              "    <tr>\n",
              "      <th>1</th>\n",
              "      <td>NBA</td>\n",
              "      <td>10470525</td>\n",
              "      <td>1230</td>\n",
              "      <td>76118</td>\n",
              "      <td>45</td>\n",
              "      <td>71.676843</td>\n",
              "    </tr>\n",
              "    <tr>\n",
              "      <th>2</th>\n",
              "      <td>BreakingNews</td>\n",
              "      <td>6720904</td>\n",
              "      <td>493</td>\n",
              "      <td>85592</td>\n",
              "      <td>3</td>\n",
              "      <td>47.570233</td>\n",
              "    </tr>\n",
              "    <tr>\n",
              "      <th>3</th>\n",
              "      <td>LittleMix</td>\n",
              "      <td>5788926</td>\n",
              "      <td>18445</td>\n",
              "      <td>15793</td>\n",
              "      <td>0</td>\n",
              "      <td>38.766278</td>\n",
              "    </tr>\n",
              "    <tr>\n",
              "      <th>4</th>\n",
              "      <td>BigSean</td>\n",
              "      <td>5639564</td>\n",
              "      <td>1873</td>\n",
              "      <td>17086</td>\n",
              "      <td>0</td>\n",
              "      <td>37.563971</td>\n",
              "    </tr>\n",
              "  </tbody>\n",
              "</table>\n",
              "</div>"
            ],
            "text/plain": [
              "       username  Number of followers  ...  Number of retweets      score\n",
              "0       nytimes             12263087  ...                   0  86.117903\n",
              "1           NBA             10470525  ...                  45  71.676843\n",
              "2  BreakingNews              6720904  ...                   3  47.570233\n",
              "3     LittleMix              5788926  ...                   0  38.766278\n",
              "4       BigSean              5639564  ...                   0  37.563971\n",
              "\n",
              "[5 rows x 6 columns]"
            ]
          },
          "metadata": {
            "tags": []
          },
          "execution_count": 53
        }
      ]
    },
    {
      "cell_type": "code",
      "metadata": {
        "colab": {
          "base_uri": "https://localhost:8080/",
          "height": 195
        },
        "id": "tNaYRgQ624xp",
        "outputId": "de2a42ab-3c6c-4128-b511-5b305053095f"
      },
      "source": [
        "df.tail()"
      ],
      "execution_count": 54,
      "outputs": [
        {
          "output_type": "execute_result",
          "data": {
            "text/html": [
              "<div>\n",
              "<style scoped>\n",
              "    .dataframe tbody tr th:only-of-type {\n",
              "        vertical-align: middle;\n",
              "    }\n",
              "\n",
              "    .dataframe tbody tr th {\n",
              "        vertical-align: top;\n",
              "    }\n",
              "\n",
              "    .dataframe thead th {\n",
              "        text-align: right;\n",
              "    }\n",
              "</style>\n",
              "<table border=\"1\" class=\"dataframe\">\n",
              "  <thead>\n",
              "    <tr style=\"text-align: right;\">\n",
              "      <th></th>\n",
              "      <th>username</th>\n",
              "      <th>Number of followers</th>\n",
              "      <th>Number of friends</th>\n",
              "      <th>Tweets</th>\n",
              "      <th>Number of retweets</th>\n",
              "      <th>score</th>\n",
              "    </tr>\n",
              "  </thead>\n",
              "  <tbody>\n",
              "    <tr>\n",
              "      <th>71008</th>\n",
              "      <td>AlexEmmaalex</td>\n",
              "      <td>0</td>\n",
              "      <td>1</td>\n",
              "      <td>1</td>\n",
              "      <td>0</td>\n",
              "      <td>0.000061</td>\n",
              "    </tr>\n",
              "    <tr>\n",
              "      <th>71009</th>\n",
              "      <td>gabi071</td>\n",
              "      <td>0</td>\n",
              "      <td>1</td>\n",
              "      <td>2</td>\n",
              "      <td>0</td>\n",
              "      <td>0.000104</td>\n",
              "    </tr>\n",
              "    <tr>\n",
              "      <th>71010</th>\n",
              "      <td>JuneAprilMay1</td>\n",
              "      <td>0</td>\n",
              "      <td>12</td>\n",
              "      <td>87</td>\n",
              "      <td>0</td>\n",
              "      <td>0.003981</td>\n",
              "    </tr>\n",
              "    <tr>\n",
              "      <th>71011</th>\n",
              "      <td>shanlee_paulse</td>\n",
              "      <td>0</td>\n",
              "      <td>2</td>\n",
              "      <td>3</td>\n",
              "      <td>0</td>\n",
              "      <td>0.000164</td>\n",
              "    </tr>\n",
              "    <tr>\n",
              "      <th>71012</th>\n",
              "      <td>hvivet</td>\n",
              "      <td>0</td>\n",
              "      <td>4</td>\n",
              "      <td>36</td>\n",
              "      <td>0</td>\n",
              "      <td>0.001631</td>\n",
              "    </tr>\n",
              "  </tbody>\n",
              "</table>\n",
              "</div>"
            ],
            "text/plain": [
              "             username  Number of followers  ...  Number of retweets     score\n",
              "71008    AlexEmmaalex                    0  ...                   0  0.000061\n",
              "71009         gabi071                    0  ...                   0  0.000104\n",
              "71010   JuneAprilMay1                    0  ...                   0  0.003981\n",
              "71011  shanlee_paulse                    0  ...                   0  0.000164\n",
              "71012          hvivet                    0  ...                   0  0.001631\n",
              "\n",
              "[5 rows x 6 columns]"
            ]
          },
          "metadata": {
            "tags": []
          },
          "execution_count": 54
        }
      ]
    },
    {
      "cell_type": "code",
      "metadata": {
        "id": "_LrBYfmT26Tb"
      },
      "source": [
        ""
      ],
      "execution_count": null,
      "outputs": []
    }
  ]
}